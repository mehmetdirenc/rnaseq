{
 "cells": [
  {
   "cell_type": "code",
   "id": "initial_id",
   "metadata": {
    "collapsed": true,
    "ExecuteTime": {
     "end_time": "2024-08-02T12:35:23.531364Z",
     "start_time": "2024-08-02T12:35:23.522529Z"
    }
   },
   "source": [
    "import os\n",
    "import sys\n",
    "import pandas as pd\n",
    "import py4cytoscape as p4c\n",
    "pd.options.mode.chained_assignment = None\n",
    "p4c.cytoscape_version_info()"
   ],
   "outputs": [
    {
     "data": {
      "text/plain": [
       "{'apiVersion': 'v1',\n",
       " 'cytoscapeVersion': '3.10.2',\n",
       " 'automationAPIVersion': '1.9.0',\n",
       " 'py4cytoscapeVersion': '1.9.0'}"
      ]
     },
     "execution_count": 42,
     "metadata": {},
     "output_type": "execute_result"
    }
   ],
   "execution_count": 42
  },
  {
   "metadata": {
    "ExecuteTime": {
     "end_time": "2024-08-02T14:00:52.528294Z",
     "start_time": "2024-08-02T14:00:52.379032Z"
    }
   },
   "cell_type": "code",
   "source": [
    "p4c.cyrest_api()\n",
    "p4c.commands_api()"
   ],
   "id": "a7afc88350cf7132",
   "outputs": [
    {
     "data": {
      "text/plain": [
       "True"
      ]
     },
     "execution_count": 55,
     "metadata": {},
     "output_type": "execute_result"
    }
   ],
   "execution_count": 55
  },
  {
   "metadata": {
    "ExecuteTime": {
     "end_time": "2024-08-02T13:57:05.110969Z",
     "start_time": "2024-08-02T13:57:05.082804Z"
    }
   },
   "cell_type": "code",
   "source": [
    "##IMPORT, CREATE AND FILTER DATAFRAME\n",
    "exp_filepath = \"/home/direnc/results/tim/rnaseq_mice/r_nr/differential_abundance/tables/differential/condition_r_nr.deseq2.results.tsv\"\n",
    "exp_name = \"r_nr\"\n",
    "experiment_de_df = pd.read_csv(exp_filepath, sep=\"\\t\")\n",
    "genes_to_keep = ['Braf', 'Akt1','Kras', 'Src']\n",
    "genes_to_keep_df = experiment_de_df[experiment_de_df['gene_id'].isin(genes_to_keep)]\n",
    "filtered_df_tmp_1 = experiment_de_df[experiment_de_df['log2FoldChange'].abs().gt(1)]\n",
    "filtered_df_tmp_2 = filtered_df_tmp_1[filtered_df_tmp_1['padj'].lt(0.05)]\n",
    "filtered_df = pd.concat([filtered_df_tmp_2, genes_to_keep_df]).drop_duplicates().reset_index(drop=True)\n",
    "filtered_df"
   ],
   "id": "a0d6a849d19f3916",
   "outputs": [
    {
     "data": {
      "text/plain": [
       "            gene_id     baseMean  log2FoldChange     lfcSE         pvalue  \\\n",
       "0     0610039K10Rik     3.631723        1.031397  0.970629   2.300989e-02   \n",
       "1     1500002C15Rik     6.098582       -1.159223  0.788483   7.949396e-03   \n",
       "2     1600014C10Rik   394.314400        1.602991  0.095726   6.140386e-64   \n",
       "3     1600014C23Rik    28.989780       -4.697120  0.620340   2.298388e-15   \n",
       "4     1700001L05Rik   223.770000       -1.513094  0.119435   6.166089e-38   \n",
       "...             ...          ...             ...       ...            ...   \n",
       "3518        Zscan4f   248.727600        1.772976  0.117416   2.114125e-52   \n",
       "3519         Zswim9   295.885300        1.093788  0.103872   1.150539e-27   \n",
       "3520           Akt1  9925.710000       -0.565955  0.025004  6.782822e-114   \n",
       "3521           Kras  2853.584000       -0.916530  0.045245   1.031214e-92   \n",
       "3522            Src  4369.450000       -0.024361  0.038681   5.265494e-01   \n",
       "\n",
       "               padj  \n",
       "0      4.275217e-02  \n",
       "1      1.587265e-02  \n",
       "2      8.965658e-63  \n",
       "3      1.035177e-14  \n",
       "4      5.492022e-37  \n",
       "...             ...  \n",
       "3518   2.528865e-51  \n",
       "3519   7.963132e-27  \n",
       "3520  1.889853e-112  \n",
       "3521   2.250576e-91  \n",
       "3522   6.416301e-01  \n",
       "\n",
       "[3523 rows x 6 columns]"
      ],
      "text/html": [
       "<div>\n",
       "<style scoped>\n",
       "    .dataframe tbody tr th:only-of-type {\n",
       "        vertical-align: middle;\n",
       "    }\n",
       "\n",
       "    .dataframe tbody tr th {\n",
       "        vertical-align: top;\n",
       "    }\n",
       "\n",
       "    .dataframe thead th {\n",
       "        text-align: right;\n",
       "    }\n",
       "</style>\n",
       "<table border=\"1\" class=\"dataframe\">\n",
       "  <thead>\n",
       "    <tr style=\"text-align: right;\">\n",
       "      <th></th>\n",
       "      <th>gene_id</th>\n",
       "      <th>baseMean</th>\n",
       "      <th>log2FoldChange</th>\n",
       "      <th>lfcSE</th>\n",
       "      <th>pvalue</th>\n",
       "      <th>padj</th>\n",
       "    </tr>\n",
       "  </thead>\n",
       "  <tbody>\n",
       "    <tr>\n",
       "      <th>0</th>\n",
       "      <td>0610039K10Rik</td>\n",
       "      <td>3.631723</td>\n",
       "      <td>1.031397</td>\n",
       "      <td>0.970629</td>\n",
       "      <td>2.300989e-02</td>\n",
       "      <td>4.275217e-02</td>\n",
       "    </tr>\n",
       "    <tr>\n",
       "      <th>1</th>\n",
       "      <td>1500002C15Rik</td>\n",
       "      <td>6.098582</td>\n",
       "      <td>-1.159223</td>\n",
       "      <td>0.788483</td>\n",
       "      <td>7.949396e-03</td>\n",
       "      <td>1.587265e-02</td>\n",
       "    </tr>\n",
       "    <tr>\n",
       "      <th>2</th>\n",
       "      <td>1600014C10Rik</td>\n",
       "      <td>394.314400</td>\n",
       "      <td>1.602991</td>\n",
       "      <td>0.095726</td>\n",
       "      <td>6.140386e-64</td>\n",
       "      <td>8.965658e-63</td>\n",
       "    </tr>\n",
       "    <tr>\n",
       "      <th>3</th>\n",
       "      <td>1600014C23Rik</td>\n",
       "      <td>28.989780</td>\n",
       "      <td>-4.697120</td>\n",
       "      <td>0.620340</td>\n",
       "      <td>2.298388e-15</td>\n",
       "      <td>1.035177e-14</td>\n",
       "    </tr>\n",
       "    <tr>\n",
       "      <th>4</th>\n",
       "      <td>1700001L05Rik</td>\n",
       "      <td>223.770000</td>\n",
       "      <td>-1.513094</td>\n",
       "      <td>0.119435</td>\n",
       "      <td>6.166089e-38</td>\n",
       "      <td>5.492022e-37</td>\n",
       "    </tr>\n",
       "    <tr>\n",
       "      <th>...</th>\n",
       "      <td>...</td>\n",
       "      <td>...</td>\n",
       "      <td>...</td>\n",
       "      <td>...</td>\n",
       "      <td>...</td>\n",
       "      <td>...</td>\n",
       "    </tr>\n",
       "    <tr>\n",
       "      <th>3518</th>\n",
       "      <td>Zscan4f</td>\n",
       "      <td>248.727600</td>\n",
       "      <td>1.772976</td>\n",
       "      <td>0.117416</td>\n",
       "      <td>2.114125e-52</td>\n",
       "      <td>2.528865e-51</td>\n",
       "    </tr>\n",
       "    <tr>\n",
       "      <th>3519</th>\n",
       "      <td>Zswim9</td>\n",
       "      <td>295.885300</td>\n",
       "      <td>1.093788</td>\n",
       "      <td>0.103872</td>\n",
       "      <td>1.150539e-27</td>\n",
       "      <td>7.963132e-27</td>\n",
       "    </tr>\n",
       "    <tr>\n",
       "      <th>3520</th>\n",
       "      <td>Akt1</td>\n",
       "      <td>9925.710000</td>\n",
       "      <td>-0.565955</td>\n",
       "      <td>0.025004</td>\n",
       "      <td>6.782822e-114</td>\n",
       "      <td>1.889853e-112</td>\n",
       "    </tr>\n",
       "    <tr>\n",
       "      <th>3521</th>\n",
       "      <td>Kras</td>\n",
       "      <td>2853.584000</td>\n",
       "      <td>-0.916530</td>\n",
       "      <td>0.045245</td>\n",
       "      <td>1.031214e-92</td>\n",
       "      <td>2.250576e-91</td>\n",
       "    </tr>\n",
       "    <tr>\n",
       "      <th>3522</th>\n",
       "      <td>Src</td>\n",
       "      <td>4369.450000</td>\n",
       "      <td>-0.024361</td>\n",
       "      <td>0.038681</td>\n",
       "      <td>5.265494e-01</td>\n",
       "      <td>6.416301e-01</td>\n",
       "    </tr>\n",
       "  </tbody>\n",
       "</table>\n",
       "<p>3523 rows × 6 columns</p>\n",
       "</div>"
      ]
     },
     "execution_count": 52,
     "metadata": {},
     "output_type": "execute_result"
    }
   ],
   "execution_count": 52
  },
  {
   "metadata": {
    "ExecuteTime": {
     "end_time": "2024-08-02T15:22:25.391189Z",
     "start_time": "2024-08-02T15:22:22.025028Z"
    }
   },
   "cell_type": "code",
   "source": [
    "##STRING NETWORK##\n",
    "exp_str = ','.join(str(v) for v in filtered_df[\"gene_id\"])\n",
    "exp_str2 = ','.join(str(v) for v in filtered_df[\"gene_id\"])\n",
    "print(len(exp_str))\n",
    "string_cmd_list = ['string protein query','query=\"',\"Kras\",'\"', 'species=\"Mus musculus\"', 'cutoff=0.9',\n",
    "                   \"newNetName=only_kras_r_nr\", \"limit=1000\"]\n",
    "string_cmd = \" \".join(string_cmd_list)\n",
    "p4c.commands.commands_run(string_cmd)\n",
    "p4c.create_subnetwork(edges='all', subnetwork_name='%s pynetwork'%exp_name)\n",
    "p4c.select_nodes(by_col= \"display name\" ,nodes=\"Kras\")\n",
    "p4c.select_first_neighbors()\n",
    "p4c.create_subnetwork(nodes=\"selected\", subnetwork_name=\"top disease neighbors\")"
   ],
   "id": "fd48e25beaab6c88",
   "outputs": [
    {
     "name": "stdout",
     "output_type": "stream",
     "text": [
      "24868\n"
     ]
    },
    {
     "data": {
      "text/plain": [
       "3845856"
      ]
     },
     "execution_count": 72,
     "metadata": {},
     "output_type": "execute_result"
    }
   ],
   "execution_count": 72
  },
  {
   "metadata": {
    "ExecuteTime": {
     "end_time": "2024-08-02T12:35:25.805580Z",
     "start_time": "2024-08-02T12:35:25.804107Z"
    }
   },
   "cell_type": "code",
   "source": "",
   "id": "4f0d2529164f4bde",
   "outputs": [],
   "execution_count": 44
  },
  {
   "metadata": {
    "ExecuteTime": {
     "end_time": "2024-08-02T12:35:25.807880Z",
     "start_time": "2024-08-02T12:35:25.806595Z"
    }
   },
   "cell_type": "code",
   "source": "",
   "id": "4e7328075a1742b0",
   "outputs": [],
   "execution_count": 44
  },
  {
   "metadata": {
    "ExecuteTime": {
     "end_time": "2024-08-02T12:35:25.809690Z",
     "start_time": "2024-08-02T12:35:25.808462Z"
    }
   },
   "cell_type": "code",
   "source": "",
   "id": "702f7f3280e85cdb",
   "outputs": [],
   "execution_count": 44
  },
  {
   "metadata": {
    "ExecuteTime": {
     "end_time": "2024-08-02T12:35:25.811671Z",
     "start_time": "2024-08-02T12:35:25.810315Z"
    }
   },
   "cell_type": "code",
   "source": "",
   "id": "a5313e41666f4b2e",
   "outputs": [],
   "execution_count": 44
  },
  {
   "metadata": {
    "ExecuteTime": {
     "end_time": "2024-08-02T12:35:25.813361Z",
     "start_time": "2024-08-02T12:35:25.812220Z"
    }
   },
   "cell_type": "code",
   "source": "",
   "id": "377bd1ea652837d2",
   "outputs": [],
   "execution_count": 44
  },
  {
   "metadata": {
    "ExecuteTime": {
     "end_time": "2024-08-02T12:35:25.815557Z",
     "start_time": "2024-08-02T12:35:25.813925Z"
    }
   },
   "cell_type": "code",
   "source": [
    "# # Get the SUID of the current network\n",
    "# network_suid = p4c.get_network_suid()\n",
    "# \n",
    "# # Get the name of the current network\n",
    "# network_name = p4c.get_network_name(network_suid)\n",
    "# \n",
    "# print(f\"The current network name is: {network_name}\")"
   ],
   "id": "9c174502fe6b66e3",
   "outputs": [],
   "execution_count": 45
  },
  {
   "metadata": {
    "ExecuteTime": {
     "end_time": "2024-08-02T12:35:25.818983Z",
     "start_time": "2024-08-02T12:35:25.816149Z"
    }
   },
   "cell_type": "code",
   "source": [
    "# network_names = p4c.get_network_list()\n",
    "# network_names"
   ],
   "id": "4dc29709b98205c8",
   "outputs": [],
   "execution_count": 46
  },
  {
   "metadata": {
    "ExecuteTime": {
     "end_time": "2024-08-02T12:35:25.822186Z",
     "start_time": "2024-08-02T12:35:25.820039Z"
    }
   },
   "cell_type": "code",
   "source": [
    "# p4c.layout_network('force-directed', 'r_nr_whole_with_added_nr/r(direction)')\n",
    "# p4c.notebook_export_show_image()"
   ],
   "id": "227239d17d64d758",
   "outputs": [],
   "execution_count": 47
  },
  {
   "metadata": {
    "ExecuteTime": {
     "end_time": "2024-08-02T12:35:25.824863Z",
     "start_time": "2024-08-02T12:35:25.822819Z"
    }
   },
   "cell_type": "code",
   "source": "# p4c.get_table_column_names()",
   "id": "560ed1908df4eedc",
   "outputs": [],
   "execution_count": 48
  },
  {
   "metadata": {
    "ExecuteTime": {
     "end_time": "2024-08-02T12:35:25.826700Z",
     "start_time": "2024-08-02T12:35:25.825454Z"
    }
   },
   "cell_type": "code",
   "source": "",
   "id": "9b5bb9a4e74d5a78",
   "outputs": [],
   "execution_count": 48
  },
  {
   "metadata": {
    "ExecuteTime": {
     "end_time": "2024-08-02T12:35:25.828936Z",
     "start_time": "2024-08-02T12:35:25.827276Z"
    }
   },
   "cell_type": "code",
   "source": "",
   "id": "804c38141cec4ed4",
   "outputs": [],
   "execution_count": 48
  },
  {
   "metadata": {
    "ExecuteTime": {
     "end_time": "2024-08-02T12:35:25.831066Z",
     "start_time": "2024-08-02T12:35:25.829713Z"
    }
   },
   "cell_type": "code",
   "source": "",
   "id": "4c60693c42faaee8",
   "outputs": [],
   "execution_count": 48
  },
  {
   "metadata": {
    "ExecuteTime": {
     "end_time": "2024-08-02T12:35:25.833483Z",
     "start_time": "2024-08-02T12:35:25.832066Z"
    }
   },
   "cell_type": "code",
   "source": "",
   "id": "7d4cab5b1bfda9d5",
   "outputs": [],
   "execution_count": 48
  }
 ],
 "metadata": {
  "kernelspec": {
   "display_name": "Python 3",
   "language": "python",
   "name": "python3"
  },
  "language_info": {
   "codemirror_mode": {
    "name": "ipython",
    "version": 2
   },
   "file_extension": ".py",
   "mimetype": "text/x-python",
   "name": "python",
   "nbconvert_exporter": "python",
   "pygments_lexer": "ipython2",
   "version": "2.7.6"
  }
 },
 "nbformat": 4,
 "nbformat_minor": 5
}
